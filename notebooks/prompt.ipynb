{
 "cells": [
  {
   "attachments": {},
   "cell_type": "markdown",
   "metadata": {},
   "source": [
    "# GPT promt mvp"
   ]
  },
  {
   "cell_type": "code",
   "execution_count": 5,
   "metadata": {},
   "outputs": [],
   "source": [
    "import openai\n",
    "import os\n",
    "\n",
    "from dotenv import load_dotenv, find_dotenv\n",
    "_ = load_dotenv(find_dotenv())\n",
    "\n",
    "openai.api_key  = os.getenv('API_KEY')"
   ]
  },
  {
   "attachments": {},
   "cell_type": "markdown",
   "metadata": {},
   "source": [
    "La idea es pasar de lenguaje natural al un dato estructurado para hacer la query."
   ]
  },
  {
   "cell_type": "code",
   "execution_count": 57,
   "metadata": {},
   "outputs": [],
   "source": [
    "import json\n",
    "\n",
    "examples = json.load(open('examples.json'))['data']"
   ]
  },
  {
   "cell_type": "code",
   "execution_count": 58,
   "metadata": {},
   "outputs": [],
   "source": [
    "qa_text = \"\"\n",
    "for example in examples:\n",
    "  if example['train']:\n",
    "    qa_text += f\"Q: {str(example['query'])}\\n\"\n",
    "    qa_text += f\"A: {json.dumps(example['answer'])}\"\n",
    "    qa_text += '\\n'\n",
    "    "
   ]
  },
  {
   "cell_type": "code",
   "execution_count": 59,
   "metadata": {},
   "outputs": [],
   "source": [
    "prompt = lambda text: f\"\"\"\n",
    "Te pasaré una consulta entre los simbolos <>. Tu tarea es:\n",
    "1.- Reconocer si el texto es una consulta relacionada a desastres climaticos o centros asistenciales. Si ni lo es responder \"null\".\n",
    "2.- Parsear la consulta y retornarn SOLO un JSON con los siguientes datos:\n",
    "- ubicacion: string | null\n",
    "- tipo_de_desastre: (incendio, tsunami, terremoto)\n",
    "- centro_asistencial: (bomberos, policia, hospital, areas_verdes)\n",
    "La respuesta deberá se, o null si no es relacionada, o el json.\n",
    "\n",
    "Algunos ejemplos de QA:\n",
    "{qa_text}\n",
    "<{text}>\n",
    "\"\"\""
   ]
  },
  {
   "cell_type": "code",
   "execution_count": 60,
   "metadata": {},
   "outputs": [],
   "source": [
    "def get_completion_gpt3_5(prompt, model=\"gpt-3.5-turbo\"):\n",
    "    messages = [{\"role\": \"user\", \"content\": prompt}]\n",
    "    response = openai.ChatCompletion.create(\n",
    "        model=model,\n",
    "        messages=messages,\n",
    "        temperature=0,\n",
    "    )\n",
    "    return response.choices[0].message[\"content\"]"
   ]
  },
  {
   "cell_type": "code",
   "execution_count": 61,
   "metadata": {},
   "outputs": [],
   "source": [
    "import json\n",
    "\n",
    "examples = json.load(open('examples.json'))['data']"
   ]
  },
  {
   "cell_type": "code",
   "execution_count": 62,
   "metadata": {},
   "outputs": [
    {
     "name": "stdout",
     "output_type": "stream",
     "text": [
      "a cuanto esta el hospital de chillan\n",
      "{\"ubicacion\": \"chillan\", \"tipo_de_desastre\": null, \"centro_asistencial\": \"hospital\"}\n",
      "\n",
      "\n",
      "como hacer un print en python\n",
      "{\"ubicacion\": null, \"tipo_de_desastre\": null, \"centro_asistencial\": null}\n",
      "\n",
      "\n",
      "En Valparaiso peligran las areas verdes a fin de año con los incendios? \n",
      "{\"ubicacion\": \"Valparaiso\", \"tipo_de_desastre\": \"incendio\", \"centro_asistencial\": \"areas_verdes\"}\n",
      "\n",
      "\n",
      "Hospitales en angol\n",
      "{\"ubicacion\": \"angol\", \"tipo_de_desastre\": null, \"centro_asistencial\": \"hospital\"}\n",
      "\n",
      "\n",
      "Incendios en la antartica\n",
      "{\"ubicacion\": \"antartica\", \"tipo_de_desastre\": \"incendio\", \"centro_asistencial\": null}\n",
      "\n",
      "\n"
     ]
    }
   ],
   "source": [
    "for example in examples:\n",
    "  if example['train'] == False:\n",
    "    print(example['query'])\n",
    "    print(get_completion_gpt3_5(prompt(example['query'])))\n",
    "    print('\\n')"
   ]
  },
  {
   "cell_type": "code",
   "execution_count": null,
   "metadata": {},
   "outputs": [],
   "source": []
  }
 ],
 "metadata": {
  "kernelspec": {
   "display_name": "venv",
   "language": "python",
   "name": "python3"
  },
  "language_info": {
   "codemirror_mode": {
    "name": "ipython",
    "version": 3
   },
   "file_extension": ".py",
   "mimetype": "text/x-python",
   "name": "python",
   "nbconvert_exporter": "python",
   "pygments_lexer": "ipython3",
   "version": "3.9.13"
  },
  "orig_nbformat": 4
 },
 "nbformat": 4,
 "nbformat_minor": 2
}
