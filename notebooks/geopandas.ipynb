{
 "cells": [
  {
   "cell_type": "code",
   "execution_count": 2,
   "metadata": {},
   "outputs": [],
   "source": [
    "import geopandas as gpd\n",
    "import json\n",
    "\n",
    "gdf = gpd.read_file('../data/comunas.geojson')"
   ]
  },
  {
   "cell_type": "code",
   "execution_count": 3,
   "metadata": {},
   "outputs": [
    {
     "data": {
      "text/plain": [
       "Index(['objectid', 'shape_leng', 'dis_elec', 'cir_sena', 'cod_comuna',\n",
       "       'codregion', 'st_area_sh', 'st_length_', 'Region', 'Comuna',\n",
       "       'Provincia', 'geometry'],\n",
       "      dtype='object')"
      ]
     },
     "execution_count": 3,
     "metadata": {},
     "output_type": "execute_result"
    }
   ],
   "source": [
    "gdf.columns"
   ]
  },
  {
   "cell_type": "code",
   "execution_count": 6,
   "metadata": {},
   "outputs": [],
   "source": [
    "def _levenshtein_distance(s1, s2):\n",
    "    if len(s1) < len(s2):\n",
    "        return _levenshtein_distance(s2, s1)\n",
    "\n",
    "    # len(s1) >= len(s2)\n",
    "    if len(s2) == 0:\n",
    "        return len(s1)\n",
    "\n",
    "    previous_row = range(len(s2) + 1)\n",
    "    for i, c1 in enumerate(s1):\n",
    "        current_row = [i + 1]\n",
    "        for j, c2 in enumerate(s2):\n",
    "            insertions = previous_row[j + 1] + 1 # j+1 instead of j since previous_row and current_row are one character longer\n",
    "            deletions = current_row[j] + 1       # than s2\n",
    "            substitutions = previous_row[j] + (c1 != c2)\n",
    "            current_row.append(min(insertions, deletions, substitutions))\n",
    "        previous_row = current_row\n",
    "    \n",
    "    return previous_row[-1]"
   ]
  },
  {
   "cell_type": "code",
   "execution_count": null,
   "metadata": {},
   "outputs": [],
   "source": [
    "test = 'santiago'"
   ]
  },
  {
   "cell_type": "code",
   "execution_count": null,
   "metadata": {},
   "outputs": [],
   "source": [
    "def get_location(location_string):\n",
    "  distances = []\n",
    "  for location in list(df_chile['Location'].dropna().unique()):\n",
    "    distance = _levenshtein_distance(location.lower(), location_string.lower())\n",
    "    distances.append((location, distance))\n",
    "  distances.sort(key=lambda x: x[1], reverse=False)\n",
    "  return distances[0][0]"
   ]
  },
  {
   "cell_type": "code",
   "execution_count": 10,
   "metadata": {},
   "outputs": [],
   "source": [
    "def get_location(location_string):\n",
    "  distances = []\n",
    "  for location in list(gdf['Comuna'].dropna().unique()):\n",
    "    distance = _levenshtein_distance(location.lower(), location_string.lower())\n",
    "    distances.append((location, distance, 'comuna'))\n",
    "  for location in list(gdf['Region'].dropna().unique()):\n",
    "    distance = _levenshtein_distance(location.lower(), location_string.lower())\n",
    "    distances.append((location, distance, 'region'))\n",
    "  for location in list(gdf['Provincia'].dropna().unique()):\n",
    "    distance = _levenshtein_distance(location.lower(), location_string.lower())\n",
    "    distances.append((location, distance, 'provincia'))\n",
    "  distances.sort(key=lambda x: x[1], reverse=False)\n",
    "  return distances[0]"
   ]
  },
  {
   "cell_type": "code",
   "execution_count": 13,
   "metadata": {},
   "outputs": [
    {
     "data": {
      "text/plain": [
       "('Arica', 0, 'comuna')"
      ]
     },
     "execution_count": 13,
     "metadata": {},
     "output_type": "execute_result"
    }
   ],
   "source": [
    "get_location('arica')"
   ]
  },
  {
   "cell_type": "code",
   "execution_count": null,
   "metadata": {},
   "outputs": [],
   "source": []
  }
 ],
 "metadata": {
  "kernelspec": {
   "display_name": "venv",
   "language": "python",
   "name": "python3"
  },
  "language_info": {
   "codemirror_mode": {
    "name": "ipython",
    "version": 3
   },
   "file_extension": ".py",
   "mimetype": "text/x-python",
   "name": "python",
   "nbconvert_exporter": "python",
   "pygments_lexer": "ipython3",
   "version": "3.9.13"
  },
  "orig_nbformat": 4
 },
 "nbformat": 4,
 "nbformat_minor": 2
}
