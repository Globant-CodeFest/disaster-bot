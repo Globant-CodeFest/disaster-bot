{
 "cells": [
  {
   "cell_type": "code",
   "execution_count": 12,
   "metadata": {},
   "outputs": [],
   "source": [
    "import pandas as pd\n",
    "\n",
    "df = pd.read_csv('data/1900_2021_DISASTERS.xlsx - emdat data.csv')"
   ]
  },
  {
   "cell_type": "code",
   "execution_count": 13,
   "metadata": {},
   "outputs": [
    {
     "name": "stdout",
     "output_type": "stream",
     "text": [
      "   Year   Seq Glide Disaster Group Disaster Subgroup      Disaster Type  \\\n",
      "0  1900  9002   NaN        Natural    Climatological            Drought   \n",
      "1  1900  9001   NaN        Natural    Climatological            Drought   \n",
      "2  1902    12   NaN        Natural       Geophysical         Earthquake   \n",
      "3  1902     3   NaN        Natural       Geophysical  Volcanic activity   \n",
      "4  1902    10   NaN        Natural       Geophysical  Volcanic activity   \n",
      "\n",
      "  Disaster Subtype Disaster Subsubtype   Event Name     Country  \n",
      "0          Drought                 NaN          NaN  Cabo Verde  \n",
      "1          Drought                 NaN          NaN       India  \n",
      "2  Ground movement                 NaN          NaN   Guatemala  \n",
      "3         Ash fall                 NaN  Santa Maria   Guatemala  \n",
      "4         Ash fall                 NaN  Santa Maria   Guatemala  \n",
      "   ISO           Region Continent                   Location Origin  \\\n",
      "0  CPV   Western Africa    Africa                Countrywide    NaN   \n",
      "1  IND    Southern Asia      Asia                     Bengal    NaN   \n",
      "2  GTM  Central America  Americas  Quezaltenango, San Marcos    NaN   \n",
      "3  GTM  Central America  Americas                        NaN    NaN   \n",
      "4  GTM  Central America  Americas                        NaN    NaN   \n",
      "\n",
      "       Associated Dis Associated Dis2 OFDA Response Appeal Declaration  \n",
      "0              Famine             NaN           NaN     No          No  \n",
      "1                 NaN             NaN           NaN     No          No  \n",
      "2  Tsunami/Tidal wave             NaN           NaN    NaN         NaN  \n",
      "3                 NaN             NaN           NaN    NaN         NaN  \n",
      "4                 NaN             NaN           NaN    NaN         NaN  \n",
      "   Aid Contribution  Dis Mag Value Dis Mag Scale Latitude Longitude  \\\n",
      "0               NaN            NaN           Km2      NaN       NaN   \n",
      "1               NaN            NaN           Km2      NaN       NaN   \n",
      "2               NaN            8.0       Richter       14       -91   \n",
      "3               NaN            NaN           NaN      NaN       NaN   \n",
      "4               NaN            NaN           NaN      NaN       NaN   \n",
      "\n",
      "  Local Time River Basin  Start Year  Start Month  Start Day  \n",
      "0        NaN         NaN        1900          NaN        NaN  \n",
      "1        NaN         NaN        1900          NaN        NaN  \n",
      "2      20:20         NaN        1902          4.0       18.0  \n",
      "3        NaN         NaN        1902          4.0        8.0  \n",
      "4        NaN         NaN        1902         10.0       24.0  \n",
      "   End Year  End Month  End Day  Total Deaths  No Injured  No Affected  \\\n",
      "0      1900        NaN      NaN       11000.0         NaN          NaN   \n",
      "1      1900        NaN      NaN     1250000.0         NaN          NaN   \n",
      "2      1902        4.0     18.0        2000.0         NaN          NaN   \n",
      "3      1902        4.0      8.0        1000.0         NaN          NaN   \n",
      "4      1902       10.0     24.0        6000.0         NaN          NaN   \n",
      "\n",
      "   No Homeless  Total Affected  Insured Damages ('000 US$)  \\\n",
      "0          NaN             NaN                         NaN   \n",
      "1          NaN             NaN                         NaN   \n",
      "2          NaN             NaN                         NaN   \n",
      "3          NaN             NaN                         NaN   \n",
      "4          NaN             NaN                         NaN   \n",
      "\n",
      "   Total Damages ('000 US$)  \n",
      "0                       NaN  \n",
      "1                       NaN  \n",
      "2                   25000.0  \n",
      "3                       NaN  \n",
      "4                       NaN  \n",
      "        CPI Adm Level Admin1 Code Admin2 Code Geo Locations\n",
      "0  3.221647       NaN         NaN         NaN           NaN\n",
      "1  3.221647       NaN         NaN         NaN           NaN\n",
      "2  3.350513       NaN         NaN         NaN           NaN\n",
      "3  3.350513       NaN         NaN         NaN           NaN\n",
      "4  3.350513       NaN         NaN         NaN           NaN\n"
     ]
    }
   ],
   "source": [
    "for i in range(0, len(df.columns), 10):\n",
    "  print(df[df.columns[i: i + 10]].head())"
   ]
  },
  {
   "cell_type": "code",
   "execution_count": 22,
   "metadata": {},
   "outputs": [
    {
     "name": "stdout",
     "output_type": "stream",
     "text": [
      "United Kingdom of Great Britain and Northern Ireland (the)\n",
      "United States of America (the)\n",
      "Soviet Union\n",
      "Tanzania, United Republic of\n",
      "United Arab Emirates (the)\n"
     ]
    }
   ],
   "source": [
    "for i in df['Country'].unique():\n",
    "  if 'Un' in i:\n",
    "    print(i)"
   ]
  },
  {
   "cell_type": "code",
   "execution_count": 14,
   "metadata": {},
   "outputs": [],
   "source": [
    "df_chile = df[df['Country'] == 'Chile']"
   ]
  },
  {
   "cell_type": "code",
   "execution_count": 19,
   "metadata": {},
   "outputs": [
    {
     "data": {
      "text/plain": [
       "array(['Valparaiso', 'Atacama', 'Talca', 'Chillan region (Concepcion)',\n",
       "       'Illapel', 'Northern', nan, 'Angol, Traiguan', 'Tierra del Fuego',\n",
       "       'Chillan, Concepcion', 'Puerto Montt, Valdivia (Arauco peninsula)',\n",
       "       'Villarica', 'Coquimbo, Santiago (Central Valley)',\n",
       "       'Antofagasta to Aisen', 'Taltal & Catalina',\n",
       "       'Nationwide, Central Valley, Central Chile', 'North coast',\n",
       "       'Valparaiso, Salamnca, Coquimbo', 'Central, South',\n",
       "       'Santiago area', 'Puerto Monte', 'Mapocho river',\n",
       "       'Atacama, Copiapo-Chanaral area', 'Northeast of Santiago',\n",
       "       'Valparaiso, Santiago, Talca, Copiapo, La Serena, Rancegua, Cauquenes, Concepcion',\n",
       "       'Central', 'Curico, Santiago, Vitacura, Ora Ges',\n",
       "       'Arica, Iquique several small Andean towns',\n",
       "       'Santiago, central Chile & outlying regions', 'Near Los Maitenes',\n",
       "       'Lonquimay', 'Curanilahue', 'Punta Arenas', 'Antogagasta', 'North',\n",
       "       'South', 'Santago, Codegua, Coya',\n",
       "       'Antofagasta, Arica, Iquique, Tocopilla, Calama, Chuquicamasta, Antofagasta, Taltal, Diego de Almagro, Chanaral, Caldera, Copiapo, Vallenar, La serena',\n",
       "       'Longuimay, Curarrehue, Pucon, Melipouco, Curacautin',\n",
       "       'Puerto Varas, Ensanada',\n",
       "       'Elqui, Limari, Choapa (Coquimbo Region - Region IV)',\n",
       "       'Santiago, Atacamo, Frontera', 'Andes', 'Santiago & Puerto Mont',\n",
       "       'Near Conception Port', 'San Fernando, Bio-Bio',\n",
       "       \"Metropolitana, Coquimbo, Valparaiso, Maule, Araucania, Los Lagos, Los Rios, Libertador Gral. Bernardo O'higgins provinces\",\n",
       "       'Valdivia district (Los Rios province), Cautin district (Araucania province)',\n",
       "       'Antofagasta, Araucania, Arica y Painacota, Atacama, Coquimbo, Los Lagos, Los Rios, Tarapaca provinces',\n",
       "       'General Lagos, Putre Camarones, Huara municipalities (Arica district, Arica y Painacota province), Parinacota disctrict (Arica y Painacota province)',\n",
       "       'Puerto Montt city (Llanquihue district, Los Lagos province), Araucania province',\n",
       "       \"Metropolitana, Araucania, Biobio, Libertador Gral. Bernardo O'higgins, Maule, Los Rios provinces\",\n",
       "       'Valparaiso district (Valparaiso province), Santiago district (Metropolitana province)',\n",
       "       \"Metropolitana, Atacama, Coquimbo, Valparaiso, Libertador Gral. Bernardo O'higgins, Maule, Bio Bio, Araucania provinces\",\n",
       "       'Bio Bio, Maule provinces',\n",
       "       \"Libertador Gral. Bernardo O'higgins, Maule, Biobio, Los Lagos, Los Rios, Aisen del Gral. Carlos Ibanez del Campo, Magallanes y Antartica chilena, Araucania provinces\",\n",
       "       \"Aisen del Gral. Carlos Ibañez del Campo, Antofagasta, Araucania, Arica y Painacota, Atacama, Biobio, Coquimbo, Libertador Gral. Bernardo O'Higgins, Los Lagos, Los Rios, Magallanes y Antartica chilena, Maule, Metropolitana, Tarapaca, Valparaiso provinces\",\n",
       "       'Coquimbo province', 'Valparaiso province',\n",
       "       'Chiloe, Llanquihue districts (Los Lagos province)',\n",
       "       'Iquique, Alto Hospicio towns (Iquique district, Tarapaca province), Pozo Almonte, Pica, Camina, Huara, Colchane towns (Tamarugal district, Tarapaca province)',\n",
       "       \"Biobio , Valparaiso, Metropolitana, Libertador Gral. Bernardo O'Higgins, Maule provinces\",\n",
       "       'Antuco city (Biobio district, Biobio province)',\n",
       "       'Santiago district (Metropolitana province)',\n",
       "       'Puerto Aisen, Puerto Chacabuco towns (Aisen district, Aisen del General Carlos Ibañez del Campo province), Balmacada town (Coyhaique district, Aisen province), Cochrane town (Capitan Prat district, Aisen province)',\n",
       "       'Tocopilla, Maria Elena, Quillagua town (Topicalla Province, Antofagasta Region), Mejillones (Antofagasta Province, Antofagasta Region)',\n",
       "       'Osorno district (Los Lagos province), Santiago district (Metropolitan province), Araucania province',\n",
       "       'Bio Bio, Maule, Valparaiso, Araucania, Los Rios provinces',\n",
       "       'Araucania, Biobio, Los Rios, Los Lagos, Maule provinces',\n",
       "       'Chaiten, Futaleufu towns (Palena district, Los Lagos province)',\n",
       "       \"Biobio province, Libertador Gral. Bernardo O'higgins, Valparaiso, Araucania, Metropolitana Santiago, Maule Provinces\",\n",
       "       'Aisen del Gral. Carlos Ibañez del Campo province',\n",
       "       'Futrono, Lago Ranco, Rio Bueno towns (Ranco district, Los Rios province)',\n",
       "       'Lonquimay villages (Malleco districts, Araucania province), Cunco, Curarrehue, Pucon, Villarrica, Vilcun villages (Cautin district, Araucania province), Biobio province',\n",
       "       'Maule province',\n",
       "       'Lonquimay, Curacautín, Purén villages (Malleco district, Araucania province), Cunco, Pucón, Curarrehue, Melipeuco, Carahue, Vilcún, Villarrica villages (Cautin district, Araucania province), Alto Bio-bío village (Biobio district, Biobio province)',\n",
       "       'Maule, Biobio, Magallanes y Antartica chilena, Araucania provinces',\n",
       "       'Parral town (Linares district, Maule province), Santiago district (Metropolitana province), Biobio district (Biobio province)',\n",
       "       'Magallanes y Antartica chilena, Arica-Parinacota, Tarapaca provinces',\n",
       "       'Biobio, Magallanes y Antartica chilena provinces',\n",
       "       \"Biobio, Libertador Gral. Bernardo O'Higgins, Maule, Metropolitana, Valparaiso provinces\",\n",
       "       'Arica y Painacota province, Alto Hospicio commune (Iquique district, Tarapaca province)',\n",
       "       \"Coquimbo, Aisen del Gral. Carloz, Valparaiso, Metropolitana, Los Rios, Araucania, Biobio, Libertador Gral. Bernardo O'higgins, Los Lagos, Maule, Metropolitana provinces\",\n",
       "       \"Valparaiso, Antofagasta, Libertador Gral. Bernardo O'higgins, Coquimbo provinces\",\n",
       "       'Atacama, Antofagasta, Coquimbo provinces',\n",
       "       'Araucania, Atacama, Biobio, Coquimbo, Libertador Gral. Bernardo O’Higgins, Maule, Metropolitana, Valparaiso provinces',\n",
       "       'Ensenada town (Llanquihue district, Los Lagos province)',\n",
       "       'Vallarica, Pucon, Cararrehue municipalities, Temuco town (Cautin district, Araucania province), Conaripe municipality (Valdivia district, Los Rios province)',\n",
       "       'Aisen, Araucania, Los Rios, Los Lagos provinces ',\n",
       "       'Metropolitana district (Santiago province)',\n",
       "       \"Coquimbo, Los Lagos, Bio Bio (Curanilahue), Maule, Metropolitan (Santiago), Araucania, O'Higgins, Los Rios, Valparaiso\",\n",
       "       \"Santiago, Valparaiso, O'Higgins, Antofagasta, Coquimbo\",\n",
       "       \"Valparaiso, Santo Domingo (San Antonio), Casablanca (Valparaiso), Maule (Santa Olga), Biobio, Metropolitana, O'Higgins, Araucania\",\n",
       "       'Villa Santa Lucia (Los Lagos region), Hualaihué ',\n",
       "       'Atacama (Chañaral, Diego de Almagro, Freirina-Huasco), Coquimbo (Monte Patria Ovalle- Limari,Andacollo-Elqui)',\n",
       "       'Coquimbo', 'Arica y Parinacota, Tarapacá, Antofagasta regions',\n",
       "       'Rocuant, San Roque (Valparaiso)',\n",
       "       ' Santiago Metropolitan, O’Higgins, Valparaíso, Maule, Araucanía, and Bío Bío Regions',\n",
       "       'Bio Bío, Araucania, Los Ríos, and Los Lagos region'], dtype=object)"
      ]
     },
     "execution_count": 19,
     "metadata": {},
     "output_type": "execute_result"
    }
   ],
   "source": [
    "df_chile['Location'].unique()"
   ]
  },
  {
   "cell_type": "code",
   "execution_count": 23,
   "metadata": {},
   "outputs": [],
   "source": [
    "df_usa = df[df['Country'] == 'United States of America (the)']"
   ]
  },
  {
   "cell_type": "code",
   "execution_count": 25,
   "metadata": {},
   "outputs": [
    {
     "name": "stdout",
     "output_type": "stream",
     "text": [
      "     Year  Seq Glide Disaster Group Disaster Subgroup Disaster Type  \\\n",
      "845  1900    3   NaN        Natural    Meteorological         Storm   \n",
      "858  1903   10   NaN        Natural    Meteorological         Storm   \n",
      "862  1906   13   NaN        Natural       Geophysical    Earthquake   \n",
      "866  1906    4   NaN        Natural    Meteorological         Storm   \n",
      "867  1906    5   NaN        Natural    Meteorological         Storm   \n",
      "\n",
      "     Disaster Subtype Disaster Subsubtype Event Name  \\\n",
      "845  Tropical cyclone                 NaN        NaN   \n",
      "858  Convective storm             Tornado        NaN   \n",
      "862   Ground movement                 NaN        NaN   \n",
      "866  Tropical cyclone                 NaN        NaN   \n",
      "867  Tropical cyclone                 NaN        NaN   \n",
      "\n",
      "                            Country  \n",
      "845  United States of America (the)  \n",
      "858  United States of America (the)  \n",
      "862  United States of America (the)  \n",
      "866  United States of America (the)  \n",
      "867  United States of America (the)  \n",
      "     ISO            Region Continent                         Location Origin  \\\n",
      "845  USA  Northern America  Americas                Galveston (Texas)    NaN   \n",
      "858  USA  Northern America  Americas            Gainesville (Georgia)    NaN   \n",
      "862  USA  Northern America  Americas       San Francisco (California)    NaN   \n",
      "866  USA  Northern America  Americas                          Florida    NaN   \n",
      "867  USA  Northern America  Americas  Mississippi, Alabama, Pensacola    NaN   \n",
      "\n",
      "               Associated Dis Associated Dis2 OFDA Response Appeal Declaration  \n",
      "845  Avalanche (Snow, Debris)             NaN           NaN    NaN         NaN  \n",
      "858                       NaN             NaN           NaN    NaN         NaN  \n",
      "862                      Fire             NaN           NaN    NaN         NaN  \n",
      "866                       NaN             NaN           NaN    NaN         NaN  \n",
      "867                       NaN             NaN           NaN    NaN         NaN  \n",
      "     Aid Contribution  Dis Mag Value Dis Mag Scale Latitude Longitude  \\\n",
      "845               NaN          220.0           Kph      NaN       NaN   \n",
      "858               NaN            NaN           Kph      NaN       NaN   \n",
      "862               NaN            8.0       Richter    37.67   -122.48   \n",
      "866               NaN          177.0           Kph      NaN       NaN   \n",
      "867               NaN          209.0           Kph      NaN       NaN   \n",
      "\n",
      "    Local Time River Basin  Start Year  Start Month  Start Day  \n",
      "845        NaN         NaN        1900          9.0        8.0  \n",
      "858        NaN         NaN        1903          NaN        NaN  \n",
      "862      05:12         NaN        1906          4.0       18.0  \n",
      "866        NaN         NaN        1906          NaN        NaN  \n",
      "867        NaN         NaN        1906          NaN        NaN  \n",
      "     End Year  End Month  End Day  Total Deaths  No Injured  No Affected  \\\n",
      "845      1900        9.0      8.0        6000.0         NaN          NaN   \n",
      "858      1903        NaN      NaN          98.0         NaN          NaN   \n",
      "862      1906        4.0     18.0         700.0         NaN          NaN   \n",
      "866      1906        NaN      NaN         164.0         NaN          NaN   \n",
      "867      1906        NaN      NaN         134.0         NaN          NaN   \n",
      "\n",
      "     No Homeless  Total Affected  Insured Damages ('000 US$)  \\\n",
      "845          NaN             NaN                         NaN   \n",
      "858          NaN             NaN                         NaN   \n",
      "862      84564.0         84564.0                    180000.0   \n",
      "866          NaN             NaN                         NaN   \n",
      "867          NaN             NaN                         NaN   \n",
      "\n",
      "     Total Damages ('000 US$)  \n",
      "845                   30000.0  \n",
      "858                       NaN  \n",
      "862                  524000.0  \n",
      "866                       NaN  \n",
      "867                       NaN  \n",
      "          CPI Adm Level Admin1 Code Admin2 Code Geo Locations\n",
      "845  3.221647       NaN         NaN         NaN           NaN\n",
      "858  3.479379       NaN         NaN         NaN           NaN\n",
      "862  3.479379       NaN         NaN         NaN           NaN\n",
      "866  3.479379       NaN         NaN         NaN           NaN\n",
      "867  3.479379       NaN         NaN         NaN           NaN\n"
     ]
    }
   ],
   "source": [
    "for i in range(0, len(df.columns), 10):\n",
    "  print(df_usa[df.columns[i: i + 10]].head())"
   ]
  },
  {
   "cell_type": "code",
   "execution_count": null,
   "metadata": {},
   "outputs": [],
   "source": []
  },
  {
   "attachments": {},
   "cell_type": "markdown",
   "metadata": {},
   "source": [
    "## Regiones, comunas etc"
   ]
  },
  {
   "cell_type": "code",
   "execution_count": 2,
   "metadata": {},
   "outputs": [],
   "source": [
    "import geopandas as gpd\n",
    "import json\n",
    "\n",
    "gdf = gpd.read_file('../data/comunas.geojson')"
   ]
  },
  {
   "cell_type": "code",
   "execution_count": 5,
   "metadata": {},
   "outputs": [
    {
     "data": {
      "text/plain": [
       "0      Región del Libertador Bernardo O'Higgins\n",
       "1      Región del Libertador Bernardo O'Higgins\n",
       "2      Región del Libertador Bernardo O'Higgins\n",
       "3      Región del Libertador Bernardo O'Higgins\n",
       "4                        Región de La Araucanía\n",
       "                         ...                   \n",
       "341                             Región de Ñuble\n",
       "342                             Región de Ñuble\n",
       "343                             Región de Ñuble\n",
       "344                             Región de Ñuble\n",
       "345                             Región de Ñuble\n",
       "Name: Region, Length: 346, dtype: object"
      ]
     },
     "execution_count": 5,
     "metadata": {},
     "output_type": "execute_result"
    }
   ],
   "source": [
    "gdf['Region']"
   ]
  },
  {
   "cell_type": "code",
   "execution_count": null,
   "metadata": {},
   "outputs": [],
   "source": []
  }
 ],
 "metadata": {
  "kernelspec": {
   "display_name": "venv",
   "language": "python",
   "name": "python3"
  },
  "language_info": {
   "codemirror_mode": {
    "name": "ipython",
    "version": 3
   },
   "file_extension": ".py",
   "mimetype": "text/x-python",
   "name": "python",
   "nbconvert_exporter": "python",
   "pygments_lexer": "ipython3",
   "version": "3.9.13"
  },
  "orig_nbformat": 4
 },
 "nbformat": 4,
 "nbformat_minor": 2
}
