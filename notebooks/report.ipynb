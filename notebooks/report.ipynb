{
 "cells": [
  {
   "cell_type": "code",
   "execution_count": 2,
   "metadata": {},
   "outputs": [],
   "source": [
    "import pandas as pd\n",
    "\n",
    "df = pd.read_csv('data/1900_2021_DISASTERS.xlsx - emdat data.csv')"
   ]
  },
  {
   "cell_type": "code",
   "execution_count": 3,
   "metadata": {},
   "outputs": [],
   "source": [
    "df_chile = df[df['Country'] == 'Chile']"
   ]
  },
  {
   "cell_type": "code",
   "execution_count": 1,
   "metadata": {},
   "outputs": [],
   "source": [
    "def levenshtein_distance(s1, s2):\n",
    "    if len(s1) < len(s2):\n",
    "        return levenshtein_distance(s2, s1)\n",
    "\n",
    "    # len(s1) >= len(s2)\n",
    "    if len(s2) == 0:\n",
    "        return len(s1)\n",
    "\n",
    "    previous_row = range(len(s2) + 1)\n",
    "    for i, c1 in enumerate(s1):\n",
    "        current_row = [i + 1]\n",
    "        for j, c2 in enumerate(s2):\n",
    "            insertions = previous_row[j + 1] + 1 # j+1 instead of j since previous_row and current_row are one character longer\n",
    "            deletions = current_row[j] + 1       # than s2\n",
    "            substitutions = previous_row[j] + (c1 != c2)\n",
    "            current_row.append(min(insertions, deletions, substitutions))\n",
    "        previous_row = current_row\n",
    "    \n",
    "    return previous_row[-1]"
   ]
  },
  {
   "cell_type": "code",
   "execution_count": 8,
   "metadata": {},
   "outputs": [
    {
     "data": {
      "text/plain": [
       "['Valparaiso',\n",
       " 'Atacama',\n",
       " 'Talca',\n",
       " 'Chillan region (Concepcion)',\n",
       " 'Illapel',\n",
       " 'Northern',\n",
       " nan,\n",
       " 'Angol, Traiguan',\n",
       " 'Tierra del Fuego',\n",
       " 'Chillan, Concepcion',\n",
       " 'Puerto Montt, Valdivia (Arauco peninsula)',\n",
       " 'Villarica',\n",
       " 'Coquimbo, Santiago (Central Valley)',\n",
       " 'Antofagasta to Aisen',\n",
       " 'Taltal & Catalina',\n",
       " 'Nationwide, Central Valley, Central Chile',\n",
       " 'North coast',\n",
       " 'Valparaiso, Salamnca, Coquimbo',\n",
       " 'Central, South',\n",
       " 'Santiago area',\n",
       " 'Puerto Monte',\n",
       " 'Mapocho river',\n",
       " 'Atacama, Copiapo-Chanaral area',\n",
       " 'Northeast of Santiago',\n",
       " 'Valparaiso, Santiago, Talca, Copiapo, La Serena, Rancegua, Cauquenes, Concepcion',\n",
       " 'Central',\n",
       " 'Curico, Santiago, Vitacura, Ora Ges',\n",
       " 'Arica, Iquique several small Andean towns',\n",
       " 'Santiago, central Chile & outlying regions',\n",
       " 'Near Los Maitenes',\n",
       " 'Lonquimay',\n",
       " 'Curanilahue',\n",
       " 'Punta Arenas',\n",
       " 'Antogagasta',\n",
       " 'North',\n",
       " 'South',\n",
       " 'Santago, Codegua, Coya',\n",
       " 'Antofagasta, Arica, Iquique, Tocopilla, Calama, Chuquicamasta, Antofagasta, Taltal, Diego de Almagro, Chanaral, Caldera, Copiapo, Vallenar, La serena',\n",
       " 'Longuimay, Curarrehue, Pucon, Melipouco, Curacautin',\n",
       " 'Puerto Varas, Ensanada',\n",
       " 'Elqui, Limari, Choapa (Coquimbo Region - Region IV)',\n",
       " 'Santiago, Atacamo, Frontera',\n",
       " 'Andes',\n",
       " 'Santiago & Puerto Mont',\n",
       " 'Near Conception Port',\n",
       " 'San Fernando, Bio-Bio',\n",
       " \"Metropolitana, Coquimbo, Valparaiso, Maule, Araucania, Los Lagos, Los Rios, Libertador Gral. Bernardo O'higgins provinces\",\n",
       " 'Valdivia district (Los Rios province), Cautin district (Araucania province)',\n",
       " 'Antofagasta, Araucania, Arica y Painacota, Atacama, Coquimbo, Los Lagos, Los Rios, Tarapaca provinces',\n",
       " 'General Lagos, Putre Camarones, Huara municipalities (Arica district, Arica y Painacota province), Parinacota disctrict (Arica y Painacota province)',\n",
       " 'Puerto Montt city (Llanquihue district, Los Lagos province), Araucania province',\n",
       " \"Metropolitana, Araucania, Biobio, Libertador Gral. Bernardo O'higgins, Maule, Los Rios provinces\",\n",
       " 'Valparaiso district (Valparaiso province), Santiago district (Metropolitana province)',\n",
       " \"Metropolitana, Atacama, Coquimbo, Valparaiso, Libertador Gral. Bernardo O'higgins, Maule, Bio Bio, Araucania provinces\",\n",
       " 'Bio Bio, Maule provinces',\n",
       " \"Libertador Gral. Bernardo O'higgins, Maule, Biobio, Los Lagos, Los Rios, Aisen del Gral. Carlos Ibanez del Campo, Magallanes y Antartica chilena, Araucania provinces\",\n",
       " \"Aisen del Gral. Carlos Ibañez del Campo, Antofagasta, Araucania, Arica y Painacota, Atacama, Biobio, Coquimbo, Libertador Gral. Bernardo O'Higgins, Los Lagos, Los Rios, Magallanes y Antartica chilena, Maule, Metropolitana, Tarapaca, Valparaiso provinces\",\n",
       " 'Coquimbo province',\n",
       " 'Valparaiso province',\n",
       " 'Chiloe, Llanquihue districts (Los Lagos province)',\n",
       " 'Iquique, Alto Hospicio towns (Iquique district, Tarapaca province), Pozo Almonte, Pica, Camina, Huara, Colchane towns (Tamarugal district, Tarapaca province)',\n",
       " \"Biobio , Valparaiso, Metropolitana, Libertador Gral. Bernardo O'Higgins, Maule provinces\",\n",
       " 'Antuco city (Biobio district, Biobio province)',\n",
       " 'Santiago district (Metropolitana province)',\n",
       " 'Puerto Aisen, Puerto Chacabuco towns (Aisen district, Aisen del General Carlos Ibañez del Campo province), Balmacada town (Coyhaique district, Aisen province), Cochrane town (Capitan Prat district, Aisen province)',\n",
       " 'Tocopilla, Maria Elena, Quillagua town (Topicalla Province, Antofagasta Region), Mejillones (Antofagasta Province, Antofagasta Region)',\n",
       " 'Osorno district (Los Lagos province), Santiago district (Metropolitan province), Araucania province',\n",
       " 'Bio Bio, Maule, Valparaiso, Araucania, Los Rios provinces',\n",
       " 'Araucania, Biobio, Los Rios, Los Lagos, Maule provinces',\n",
       " 'Chaiten, Futaleufu towns (Palena district, Los Lagos province)',\n",
       " \"Biobio province, Libertador Gral. Bernardo O'higgins, Valparaiso, Araucania, Metropolitana Santiago, Maule Provinces\",\n",
       " 'Aisen del Gral. Carlos Ibañez del Campo province',\n",
       " 'Futrono, Lago Ranco, Rio Bueno towns (Ranco district, Los Rios province)',\n",
       " 'Lonquimay villages (Malleco districts, Araucania province), Cunco, Curarrehue, Pucon, Villarrica, Vilcun villages (Cautin district, Araucania province), Biobio province',\n",
       " 'Maule province',\n",
       " 'Lonquimay, Curacautín, Purén villages (Malleco district, Araucania province), Cunco, Pucón, Curarrehue, Melipeuco, Carahue, Vilcún, Villarrica villages (Cautin district, Araucania province), Alto Bio-bío village (Biobio district, Biobio province)',\n",
       " 'Maule, Biobio, Magallanes y Antartica chilena, Araucania provinces',\n",
       " 'Parral town (Linares district, Maule province), Santiago district (Metropolitana province), Biobio district (Biobio province)',\n",
       " 'Magallanes y Antartica chilena, Arica-Parinacota, Tarapaca provinces',\n",
       " 'Biobio, Magallanes y Antartica chilena provinces',\n",
       " \"Biobio, Libertador Gral. Bernardo O'Higgins, Maule, Metropolitana, Valparaiso provinces\",\n",
       " 'Arica y Painacota province, Alto Hospicio commune (Iquique district, Tarapaca province)',\n",
       " \"Coquimbo, Aisen del Gral. Carloz, Valparaiso, Metropolitana, Los Rios, Araucania, Biobio, Libertador Gral. Bernardo O'higgins, Los Lagos, Maule, Metropolitana provinces\",\n",
       " \"Valparaiso, Antofagasta, Libertador Gral. Bernardo O'higgins, Coquimbo provinces\",\n",
       " 'Atacama, Antofagasta, Coquimbo provinces',\n",
       " 'Araucania, Atacama, Biobio, Coquimbo, Libertador Gral. Bernardo O’Higgins, Maule, Metropolitana, Valparaiso provinces',\n",
       " 'Ensenada town (Llanquihue district, Los Lagos province)',\n",
       " 'Vallarica, Pucon, Cararrehue municipalities, Temuco town (Cautin district, Araucania province), Conaripe municipality (Valdivia district, Los Rios province)',\n",
       " 'Aisen, Araucania, Los Rios, Los Lagos provinces ',\n",
       " 'Metropolitana district (Santiago province)',\n",
       " \"Coquimbo, Los Lagos, Bio Bio (Curanilahue), Maule, Metropolitan (Santiago), Araucania, O'Higgins, Los Rios, Valparaiso\",\n",
       " \"Santiago, Valparaiso, O'Higgins, Antofagasta, Coquimbo\",\n",
       " \"Valparaiso, Santo Domingo (San Antonio), Casablanca (Valparaiso), Maule (Santa Olga), Biobio, Metropolitana, O'Higgins, Araucania\",\n",
       " 'Villa Santa Lucia (Los Lagos region), Hualaihué ',\n",
       " 'Atacama (Chañaral, Diego de Almagro, Freirina-Huasco), Coquimbo (Monte Patria Ovalle- Limari,Andacollo-Elqui)',\n",
       " 'Coquimbo',\n",
       " 'Arica y Parinacota, Tarapacá, Antofagasta regions',\n",
       " 'Rocuant, San Roque (Valparaiso)',\n",
       " ' Santiago Metropolitan, O’Higgins, Valparaíso, Maule, Araucanía, and Bío Bío Regions',\n",
       " 'Bio Bío, Araucania, Los Ríos, and Los Lagos region']"
      ]
     },
     "execution_count": 8,
     "metadata": {},
     "output_type": "execute_result"
    }
   ],
   "source": [
    "list(df_chile['Location'].unique())"
   ]
  },
  {
   "cell_type": "code",
   "execution_count": 35,
   "metadata": {},
   "outputs": [],
   "source": [
    "def get_location(location_string):\n",
    "  distances = []\n",
    "  for location in list(df_chile['Location'].dropna().unique()):\n",
    "    distance = levenshtein_distance(location.lower(), location_string.lower())\n",
    "    distances.append((location, distance))\n",
    "  distances.sort(key=lambda x: x[1], reverse=False)\n",
    "  print(distances[0])"
   ]
  },
  {
   "cell_type": "code",
   "execution_count": 42,
   "metadata": {},
   "outputs": [
    {
     "name": "stdout",
     "output_type": "stream",
     "text": [
      "('Santiago area', 5)\n"
     ]
    }
   ],
   "source": [
    "get_location('santiago')"
   ]
  },
  {
   "cell_type": "code",
   "execution_count": null,
   "metadata": {},
   "outputs": [],
   "source": []
  },
  {
   "cell_type": "code",
   "execution_count": null,
   "metadata": {},
   "outputs": [],
   "source": []
  }
 ],
 "metadata": {
  "kernelspec": {
   "display_name": "venv",
   "language": "python",
   "name": "python3"
  },
  "language_info": {
   "codemirror_mode": {
    "name": "ipython",
    "version": 3
   },
   "file_extension": ".py",
   "mimetype": "text/x-python",
   "name": "python",
   "nbconvert_exporter": "python",
   "pygments_lexer": "ipython3",
   "version": "3.9.13"
  },
  "orig_nbformat": 4
 },
 "nbformat": 4,
 "nbformat_minor": 2
}
